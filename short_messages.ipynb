{
 "cells": [
  {
   "cell_type": "code",
   "execution_count": null,
   "metadata": {},
   "outputs": [],
   "source": [
    "%pip install peft accelerate loralib"
   ]
  },
  {
   "cell_type": "code",
   "execution_count": 11,
   "metadata": {},
   "outputs": [],
   "source": [
    "import os\n",
    "\n",
    "import matplotlib.pyplot as plt\n",
    "import numpy as np\n",
    "import seaborn as sns\n",
    "import torch\n",
    "from datasets import Dataset\n",
    "from peft import PeftConfig, PeftModel\n",
    "from torch import nn\n",
    "from torch.utils.data import TensorDataset\n",
    "from transformers import (\n",
    "    AutoModelForCausalLM,\n",
    "    AutoTokenizer,\n",
    "    DataCollatorForLanguageModeling,\n",
    "    Trainer,\n",
    "    TrainingArguments,\n",
    "    integrations,\n",
    ")\n"
   ]
  },
  {
   "cell_type": "code",
   "execution_count": 34,
   "metadata": {},
   "outputs": [
    {
     "name": "stderr",
     "output_type": "stream",
     "text": [
      "Special tokens have been added in the vocabulary, make sure the associated word embeddings are fine-tuned or trained.\n",
      "Using custom data configuration default-c026a0da68931db6\n",
      "Found cached dataset text (/home/mike/.cache/huggingface/datasets/text/default-c026a0da68931db6/0.0.0)\n",
      "Loading cached processed dataset at /home/mike/.cache/huggingface/datasets/text/default-c026a0da68931db6/0.0.0/cache-4c558e740f1d48fa.arrow\n"
     ]
    }
   ],
   "source": [
    "base_name = \"ai-forever/rugpt3small_based_on_gpt2\"\n",
    "tokenizer = AutoTokenizer.from_pretrained(base_name)\n",
    "tokenizer.pad_token = tokenizer.eos_token\n",
    "model = AutoModelForCausalLM.from_pretrained(base_name)\n",
    "\n",
    "full_dataset = Dataset.from_text(\"spam_messages_names.txt\")\n",
    "full_dataset = full_dataset.map(\n",
    "    lambda example: tokenizer(example[\"text\"]), batched=True\n",
    ")\n",
    "data_dict = full_dataset.train_test_split(test_size=0.01, shuffle=True, seed=42)\n"
   ]
  },
  {
   "cell_type": "code",
   "execution_count": 35,
   "metadata": {},
   "outputs": [
    {
     "name": "stdout",
     "output_type": "stream",
     "text": [
      "61057 617\n",
      "{'text': 'Sōl Astrī: Не похоже', 'input_ids': [55, 134, 240, 80, 49062, 86, 133, 109, 30, 832, 5175], 'attention_mask': [1, 1, 1, 1, 1, 1, 1, 1, 1, 1, 1]}\n",
      "430\n"
     ]
    },
    {
     "data": {
      "image/png": "[encoded data removed]",
      "text/plain": [
       "<Figure size 640x480 with 1 Axes>"
      ]
     },
     "metadata": {},
     "output_type": "display_data"
    }
   ],
   "source": [
    "print(len(data_dict[\"train\"]), len(data_dict[\"test\"]))\n",
    "print(full_dataset[-1])\n",
    "lengths = np.array(sorted([len(elem[\"input_ids\"]) for elem in full_dataset]))\n",
    "print(lengths[-1])\n",
    "\n",
    "plt.plot(lengths)\n",
    "plt.ylim(0, 80)\n",
    "plt.show()"
   ]
  },
  {
   "cell_type": "code",
   "execution_count": 32,
   "metadata": {},
   "outputs": [],
   "source": [
    "for param in model.parameters():\n",
    "    param.requires_grad = False  # freeze the model - train adapters later\n",
    "    if param.ndim == 1:\n",
    "        # cast the small parameters (e.g. layernorm) to fp32 for stability\n",
    "        param.data = param.data.to(torch.float32)\n",
    "\n",
    "model.gradient_checkpointing_enable()  # reduce number of stored activations\n",
    "\n",
    "\n",
    "class CastOutputToFloat(nn.Sequential):\n",
    "    def forward(self, x):\n",
    "        return super().forward(x).to(torch.float32)\n",
    "\n",
    "\n",
    "model.lm_head = CastOutputToFloat(model.lm_head)\n"
   ]
  },
  {
   "cell_type": "code",
   "execution_count": 33,
   "metadata": {},
   "outputs": [
    {
     "name": "stderr",
     "output_type": "stream",
     "text": [
      "/home/mike/.local/lib/python3.10/site-packages/peft/tuners/lora.py:240: UserWarning: fan_in_fan_out is set to False but the target module is `Conv1D`. Setting fan_in_fan_out to True.\n",
      "  warnings.warn(\n"
     ]
    },
    {
     "name": "stdout",
     "output_type": "stream",
     "text": [
      "trainable params: 589824 || all params: 125821440 || trainable: 0.47%\n"
     ]
    }
   ],
   "source": [
    "from peft import LoraConfig, get_peft_model\n",
    "\n",
    "\n",
    "def print_trainable_parameters(model):\n",
    "    \"\"\"\n",
    "    Prints the number of trainable parameters in the model.\n",
    "    \"\"\"\n",
    "    trainable_params = 0\n",
    "    all_param = 0\n",
    "    for _, param in model.named_parameters():\n",
    "        all_param += param.numel()\n",
    "        if param.requires_grad:\n",
    "            trainable_params += param.numel()\n",
    "    print(\n",
    "        f\"trainable params: {trainable_params} || all params: {all_param} || trainable: {100 * trainable_params / all_param:.2f}%\"\n",
    "    )\n",
    "\n",
    "\n",
    "config = LoraConfig(\n",
    "    r=16,  # attention heads\n",
    "    lora_alpha=32,  # alpha scaling\n",
    "    lora_dropout=0.05,\n",
    "    bias=\"none\",\n",
    "    task_type=\"CAUSAL_LM\",  # set this for CLM or Seq2Seq\n",
    ")\n",
    "\n",
    "model = get_peft_model(model, config)\n",
    "print_trainable_parameters(model)\n"
   ]
  },
  {
   "cell_type": "code",
   "execution_count": 68,
   "metadata": {},
   "outputs": [
    {
     "name": "stderr",
     "output_type": "stream",
     "text": [
      "PyTorch: setting up devices\n",
      "max_steps is given, it will override any value given in num_train_epochs\n"
     ]
    }
   ],
   "source": [
    "training_args = TrainingArguments(\n",
    "    per_device_train_batch_size=4,\n",
    "    gradient_accumulation_steps=4,\n",
    "    warmup_steps=100,\n",
    "    max_steps=200,\n",
    "    learning_rate=2e-4,\n",
    "    logging_steps=1,\n",
    "    output_dir=\"outputs\",\n",
    "    evaluation_strategy=\"epoch\",\n",
    "    save_strategy=\"epoch\",\n",
    "    load_best_model_at_end=True,\n",
    "    report_to=\"none\",\n",
    ")\n",
    "\n",
    "trainer = Trainer(\n",
    "    model,\n",
    "    train_dataset=data_dict[\"train\"],\n",
    "    eval_dataset=data_dict[\"test\"],\n",
    "    args=training_args,\n",
    "    tokenizer=tokenizer,\n",
    "    data_collator=DataCollatorForLanguageModeling(tokenizer, mlm=False),\n",
    ")\n"
   ]
  },
  {
   "cell_type": "code",
   "execution_count": 39,
   "metadata": {},
   "outputs": [
    {
     "name": "stderr",
     "output_type": "stream",
     "text": [
      "The following columns in the evaluation set don't have a corresponding argument in `GPT2LMHeadModel.forward` and have been ignored: text. If text are not expected by `GPT2LMHeadModel.forward`,  you can safely ignore this message.\n",
      "***** Running Evaluation *****\n",
      "  Num examples = 617\n",
      "  Batch size = 8\n",
      "You're using a GPT2TokenizerFast tokenizer. Please note that with a fast tokenizer, using the `__call__` method is faster than using a method to encode the text followed by a call to the `pad` method to get a padded encoding.\n"
     ]
    },
    {
     "data": {
      "application/vnd.jupyter.widget-view+json": {
       "model_id": "72b65c9507c94b9a8386d6272d221a8d",
       "version_major": 2,
       "version_minor": 0
      },
      "text/plain": [
       "  0%|          | 0/78 [00:00<?, ?it/s]"
      ]
     },
     "metadata": {},
     "output_type": "display_data"
    }
   ],
   "source": [
    "results_before = trainer.evaluate()"
   ]
  },
  {
   "cell_type": "code",
   "execution_count": 66,
   "metadata": {},
   "outputs": [
    {
     "name": "stdout",
     "output_type": "stream",
     "text": [
      "{'eval_loss': 5.105103492736816, 'eval_runtime': 31.114, 'eval_samples_per_second': 19.83, 'eval_steps_per_second': 2.507}\n",
      "Results for a \n",
      "a  \n",
      "\n",
      "\n",
      "13410664\tevstoliya-3\t2018-01-\n",
      "a  - http://specialtyaz.ru...✂ \n",
      " [url=http://spec\n",
      "a  \n",
      "\t\tИ всё идёт как надо. \n",
      "\t\tА всё идёт, как по плану.\n",
      "a ugly\" for me\n",
      "\n",
      "The Wizards of the Witcher 3 (1937\n",
      "a  &amp;lt;!-- IRE.END, SHEARER.\n",
      "a ubereait, poderia pacera, et los datos\n",
      "a é traviada e melhor seja é, comentário p\n",
      "a },      {1},      {2},      {3},\n",
      "a echo \\[################\n",
      "a ua, pelicanos ou fácil, do eu sacriir\n",
      "Results for Mikhail Budnikov:\n",
      "Mikhail Budnikov: \"Cross-continental\" - это только мое субъективное мнение. И я искренне не\n",
      "Mikhail Budnikov: The new #ModulationBridge can be called a model for “Portal” techn\n",
      "Mikhail Budnikov: \"Все что сегодня происходит в нашей стране сегодня, в том числе наши действия, – это отражение нашей\n",
      "Mikhail Budnikov: «Полукоммерческая недвижимость в г. Москве», Москва, «Территория недвижимости и\n",
      "Mikhail Budnikov: Что значит \"Бороться и искать\" на практике? - \"Бороться и искать\" - это\n",
      "Mikhail Budnikov: «В связи с закрытием сезона в городе не будет туристов». Я знаю, что в этом сезоне\n",
      "Mikhail Budnikov: «Мы знаем, зачем мы живем, понимаем, как важно для нас сохранять традиции. Потому что люди\n",
      "Mikhail Budnikov:\n",
      "\n",
      "Seminars can be expressed in\n",
      "\n",
      "\n",
      "North Carolina F.C\n",
      "Mikhail Budnikov: \"В стране должна быть четкая гражданская позиция как и в обществе, так и между людьми\". \n",
      "Mikhail Budnikov:\n",
      "\"In February 2015, a young journalist named Inspector Loritz, with a\n",
      "Results for Rodion Khvorostov:\n",
      "Rodion Khvorostov: &laquo;Борис Годунов - это фигура очень важная в политической деятельности, но никак\n",
      "Rodion Khvorostov: \"Ситуация здесь – это не Крымская весна, это не референдум.  Это не та ситуация\n",
      "Rodion Khvorostov: \"В чем суть акции, которая проводилась среди сторонников Виктора Януковича.  По сути, была попытка дестабили\n",
      "Rodion Khvorostov:  Валерий Карпков -  «…Валерий Карпков -\n",
      "Rodion Khvorostov: Не надо ни за что винить ни граждан Российской Федерации, ни всех кто там живет.&nbsp;\n",
      "Rodion Khvorostov: \"Белорусская Республика на пути интеграции с Белоруссией – это уже не просто одно государство, а\n",
      "Rodion Khvorostov: «На протяжении всех лет моя Родина не была и у меня нет Родины и в дальнейшем».\n",
      "\n",
      "\n",
      "Rodion Khvorostov: «В данном случае мы имеем дело с явной критикой руководства, которое в настоящее время занимается только\n",
      "Rodion Khvorostov: \"Донецкая народная республика уже не нужна никому.  Они уже ничего не смогут сделать, просто\n",
      "Rodion Khvorostov: \"Чеченовскому войску нужна помощь из Москвы: они не хотят работать на Кремль!\"\n",
      "Results for Veronika Sirotkina:\n",
      "Veronika Sirotkina: О любви и о себе \n",
      "Анна Герман-Россет Remarine Travelling:\n",
      "Veronika Sirotkina: \"Я не могла представить себя со старыми фотками. Не могу представить себя со старыми фотографиями на фоне\n",
      "Veronika Sirotkina: \"Берегите себя, ваши дети - всегда дети...\"  Если вы хотите сохранить свою индивидуальность\n",
      "Veronika Sirotkina: \"Это — только начало\" \n",
      " Елена ПАНГЕЛЬ, директор сети ресторанов \"Марс\":\n",
      "Veronika Sirotkina: \"Как же все таки в жизни не везет с мужчинами\" \n",
      " Екатерина: \"... и вообще, в\n",
      "Veronika Sirotkina: «Опираясь на себя, я делаю шаги вперед». - «Я все еще занимаюсь медитацией\n",
      "Veronika Sirotkina: «Если на Западе вас воспринимают как женщину, то у нас женщин не воспринимают как мужчин». В статье\n",
      "Veronika Sirotkina: http://www.youtube.com/watch?v=MJUlC4\n",
      "Veronika Sirotkina: \"I love to have a single person!\" Posted by Роман Савельев on&nbsp;8\n",
      "Veronika Sirotkina: https://t.co/FZljIObCmJ https://t.\n"
     ]
    }
   ],
   "source": [
    "print(results_before)\n",
    "for prompt in [\"a \", \"Mikhail Budnikov:\", \"Rodion Khvorostov:\", \"Veronika Sirotkina:\"]:\n",
    "    print(\"Results for\", prompt)\n",
    "    for it in range(10):\n",
    "        tokens = tokenizer(prompt, return_tensors=\"pt\")\n",
    "        g = model.generate(**tokens, max_new_tokens=20, pad_token_id=50256, return_dict_in_generate=True, do_sample=True)\n",
    "        prediction = g.sequences[0]\n",
    "        print(tokenizer.decode(prediction))"
   ]
  },
  {
   "cell_type": "code",
   "execution_count": 69,
   "metadata": {},
   "outputs": [
    {
     "name": "stderr",
     "output_type": "stream",
     "text": [
      "The following columns in the training set don't have a corresponding argument in `GPT2LMHeadModel.forward` and have been ignored: text. If text are not expected by `GPT2LMHeadModel.forward`,  you can safely ignore this message.\n",
      "/home/mike/.local/lib/python3.10/site-packages/transformers/optimization.py:306: FutureWarning: This implementation of AdamW is deprecated and will be removed in a future version. Use the PyTorch implementation torch.optim.AdamW instead, or set `no_deprecation_warning=True` to disable this warning\n",
      "  warnings.warn(\n",
      "***** Running training *****\n",
      "  Num examples = 61057\n",
      "  Num Epochs = 1\n",
      "  Instantaneous batch size per device = 4\n",
      "  Total train batch size (w. parallel, distributed & accumulation) = 16\n",
      "  Gradient Accumulation steps = 4\n",
      "  Total optimization steps = 200\n",
      "  Number of trainable parameters = 125231616\n"
     ]
    },
    {
     "data": {
      "application/vnd.jupyter.widget-view+json": {
       "model_id": "6f8f25d880f94c4fb220a36e5af061a1",
       "version_major": 2,
       "version_minor": 0
      },
      "text/plain": [
       "  0%|          | 0/200 [00:00<?, ?it/s]"
      ]
     },
     "metadata": {},
     "output_type": "display_data"
    },
    {
     "name": "stdout",
     "output_type": "stream",
     "text": [
      "{'loss': 5.2611, 'learning_rate': 2.0000000000000003e-06, 'epoch': 0.0}\n",
      "{'loss': 5.2101, 'learning_rate': 4.000000000000001e-06, 'epoch': 0.0}\n",
      "{'loss': 5.4502, 'learning_rate': 6e-06, 'epoch': 0.0}\n",
      "{'loss': 4.8848, 'learning_rate': 8.000000000000001e-06, 'epoch': 0.0}\n",
      "{'loss': 5.2576, 'learning_rate': 1e-05, 'epoch': 0.0}\n",
      "{'loss': 4.8429, 'learning_rate': 1.2e-05, 'epoch': 0.0}\n",
      "{'loss': 4.674, 'learning_rate': 1.4000000000000001e-05, 'epoch': 0.0}\n",
      "{'loss': 4.761, 'learning_rate': 1.6000000000000003e-05, 'epoch': 0.0}\n",
      "{'loss': 4.7102, 'learning_rate': 1.8e-05, 'epoch': 0.0}\n",
      "{'loss': 4.352, 'learning_rate': 2e-05, 'epoch': 0.0}\n",
      "{'loss': 3.7165, 'learning_rate': 2.2000000000000003e-05, 'epoch': 0.0}\n",
      "{'loss': 4.0495, 'learning_rate': 2.4e-05, 'epoch': 0.0}\n",
      "{'loss': 3.8335, 'learning_rate': 2.6000000000000002e-05, 'epoch': 0.0}\n",
      "{'loss': 3.9267, 'learning_rate': 2.8000000000000003e-05, 'epoch': 0.0}\n",
      "{'loss': 3.6018, 'learning_rate': 3e-05, 'epoch': 0.0}\n",
      "{'loss': 3.8515, 'learning_rate': 3.2000000000000005e-05, 'epoch': 0.0}\n",
      "{'loss': 3.9997, 'learning_rate': 3.4000000000000007e-05, 'epoch': 0.0}\n",
      "{'loss': 4.0429, 'learning_rate': 3.6e-05, 'epoch': 0.0}\n",
      "{'loss': 3.5947, 'learning_rate': 3.8e-05, 'epoch': 0.0}\n",
      "{'loss': 3.3986, 'learning_rate': 4e-05, 'epoch': 0.01}\n",
      "{'loss': 3.6872, 'learning_rate': 4.2e-05, 'epoch': 0.01}\n",
      "{'loss': 4.0387, 'learning_rate': 4.4000000000000006e-05, 'epoch': 0.01}\n",
      "{'loss': 3.3577, 'learning_rate': 4.600000000000001e-05, 'epoch': 0.01}\n",
      "{'loss': 3.5157, 'learning_rate': 4.8e-05, 'epoch': 0.01}\n",
      "{'loss': 3.5158, 'learning_rate': 5e-05, 'epoch': 0.01}\n",
      "{'loss': 3.4903, 'learning_rate': 5.2000000000000004e-05, 'epoch': 0.01}\n",
      "{'loss': 3.453, 'learning_rate': 5.4000000000000005e-05, 'epoch': 0.01}\n",
      "{'loss': 3.0734, 'learning_rate': 5.6000000000000006e-05, 'epoch': 0.01}\n",
      "{'loss': 3.7651, 'learning_rate': 5.8e-05, 'epoch': 0.01}\n",
      "{'loss': 3.5858, 'learning_rate': 6e-05, 'epoch': 0.01}\n",
      "{'loss': 3.1225, 'learning_rate': 6.2e-05, 'epoch': 0.01}\n",
      "{'loss': 2.5648, 'learning_rate': 6.400000000000001e-05, 'epoch': 0.01}\n",
      "{'loss': 3.1947, 'learning_rate': 6.6e-05, 'epoch': 0.01}\n",
      "{'loss': 2.9097, 'learning_rate': 6.800000000000001e-05, 'epoch': 0.01}\n",
      "{'loss': 3.3262, 'learning_rate': 7e-05, 'epoch': 0.01}\n",
      "{'loss': 3.4336, 'learning_rate': 7.2e-05, 'epoch': 0.01}\n",
      "{'loss': 3.3644, 'learning_rate': 7.4e-05, 'epoch': 0.01}\n",
      "{'loss': 2.8017, 'learning_rate': 7.6e-05, 'epoch': 0.01}\n",
      "{'loss': 2.8468, 'learning_rate': 7.800000000000001e-05, 'epoch': 0.01}\n",
      "{'loss': 3.1059, 'learning_rate': 8e-05, 'epoch': 0.01}\n",
      "{'loss': 3.1536, 'learning_rate': 8.2e-05, 'epoch': 0.01}\n",
      "{'loss': 3.7747, 'learning_rate': 8.4e-05, 'epoch': 0.01}\n",
      "{'loss': 2.7421, 'learning_rate': 8.6e-05, 'epoch': 0.01}\n",
      "{'loss': 3.0506, 'learning_rate': 8.800000000000001e-05, 'epoch': 0.01}\n",
      "{'loss': 3.2802, 'learning_rate': 9e-05, 'epoch': 0.01}\n",
      "{'loss': 2.9085, 'learning_rate': 9.200000000000001e-05, 'epoch': 0.01}\n",
      "{'loss': 2.6063, 'learning_rate': 9.4e-05, 'epoch': 0.01}\n",
      "{'loss': 2.4029, 'learning_rate': 9.6e-05, 'epoch': 0.01}\n",
      "{'loss': 3.431, 'learning_rate': 9.8e-05, 'epoch': 0.01}\n",
      "{'loss': 3.0594, 'learning_rate': 0.0001, 'epoch': 0.01}\n",
      "{'loss': 3.0178, 'learning_rate': 0.00010200000000000001, 'epoch': 0.01}\n",
      "{'loss': 3.0033, 'learning_rate': 0.00010400000000000001, 'epoch': 0.01}\n",
      "{'loss': 2.7714, 'learning_rate': 0.00010600000000000002, 'epoch': 0.01}\n",
      "{'loss': 2.9727, 'learning_rate': 0.00010800000000000001, 'epoch': 0.01}\n",
      "{'loss': 2.8277, 'learning_rate': 0.00011000000000000002, 'epoch': 0.01}\n",
      "{'loss': 2.8877, 'learning_rate': 0.00011200000000000001, 'epoch': 0.01}\n",
      "{'loss': 2.5782, 'learning_rate': 0.00011399999999999999, 'epoch': 0.01}\n",
      "{'loss': 3.1792, 'learning_rate': 0.000116, 'epoch': 0.02}\n",
      "{'loss': 2.8416, 'learning_rate': 0.000118, 'epoch': 0.02}\n",
      "{'loss': 3.3715, 'learning_rate': 0.00012, 'epoch': 0.02}\n",
      "{'loss': 2.2283, 'learning_rate': 0.000122, 'epoch': 0.02}\n",
      "{'loss': 2.8636, 'learning_rate': 0.000124, 'epoch': 0.02}\n",
      "{'loss': 2.6885, 'learning_rate': 0.000126, 'epoch': 0.02}\n",
      "{'loss': 2.4856, 'learning_rate': 0.00012800000000000002, 'epoch': 0.02}\n",
      "{'loss': 2.9015, 'learning_rate': 0.00013000000000000002, 'epoch': 0.02}\n",
      "{'loss': 2.9287, 'learning_rate': 0.000132, 'epoch': 0.02}\n",
      "{'loss': 2.9259, 'learning_rate': 0.000134, 'epoch': 0.02}\n",
      "{'loss': 3.332, 'learning_rate': 0.00013600000000000003, 'epoch': 0.02}\n",
      "{'loss': 2.663, 'learning_rate': 0.000138, 'epoch': 0.02}\n",
      "{'loss': 2.2554, 'learning_rate': 0.00014, 'epoch': 0.02}\n",
      "{'loss': 2.764, 'learning_rate': 0.000142, 'epoch': 0.02}\n",
      "{'loss': 2.8123, 'learning_rate': 0.000144, 'epoch': 0.02}\n",
      "{'loss': 2.3443, 'learning_rate': 0.000146, 'epoch': 0.02}\n",
      "{'loss': 3.1575, 'learning_rate': 0.000148, 'epoch': 0.02}\n",
      "{'loss': 2.3818, 'learning_rate': 0.00015000000000000001, 'epoch': 0.02}\n",
      "{'loss': 3.254, 'learning_rate': 0.000152, 'epoch': 0.02}\n",
      "{'loss': 3.3438, 'learning_rate': 0.000154, 'epoch': 0.02}\n",
      "{'loss': 3.3558, 'learning_rate': 0.00015600000000000002, 'epoch': 0.02}\n",
      "{'loss': 3.5347, 'learning_rate': 0.00015800000000000002, 'epoch': 0.02}\n",
      "{'loss': 2.6557, 'learning_rate': 0.00016, 'epoch': 0.02}\n",
      "{'loss': 2.432, 'learning_rate': 0.000162, 'epoch': 0.02}\n",
      "{'loss': 2.9044, 'learning_rate': 0.000164, 'epoch': 0.02}\n",
      "{'loss': 2.7789, 'learning_rate': 0.000166, 'epoch': 0.02}\n",
      "{'loss': 3.1434, 'learning_rate': 0.000168, 'epoch': 0.02}\n",
      "{'loss': 2.6193, 'learning_rate': 0.00017, 'epoch': 0.02}\n",
      "{'loss': 2.6793, 'learning_rate': 0.000172, 'epoch': 0.02}\n",
      "{'loss': 3.0337, 'learning_rate': 0.000174, 'epoch': 0.02}\n",
      "{'loss': 3.3656, 'learning_rate': 0.00017600000000000002, 'epoch': 0.02}\n",
      "{'loss': 2.7994, 'learning_rate': 0.00017800000000000002, 'epoch': 0.02}\n",
      "{'loss': 2.7175, 'learning_rate': 0.00018, 'epoch': 0.02}\n",
      "{'loss': 2.9752, 'learning_rate': 0.000182, 'epoch': 0.02}\n",
      "{'loss': 2.9519, 'learning_rate': 0.00018400000000000003, 'epoch': 0.02}\n",
      "{'loss': 2.9147, 'learning_rate': 0.00018600000000000002, 'epoch': 0.02}\n",
      "{'loss': 2.7844, 'learning_rate': 0.000188, 'epoch': 0.02}\n",
      "{'loss': 2.6005, 'learning_rate': 0.00019, 'epoch': 0.02}\n",
      "{'loss': 3.1435, 'learning_rate': 0.000192, 'epoch': 0.03}\n",
      "{'loss': 2.7807, 'learning_rate': 0.000194, 'epoch': 0.03}\n",
      "{'loss': 3.2598, 'learning_rate': 0.000196, 'epoch': 0.03}\n",
      "{'loss': 2.7014, 'learning_rate': 0.00019800000000000002, 'epoch': 0.03}\n",
      "{'loss': 3.3538, 'learning_rate': 0.0002, 'epoch': 0.03}\n",
      "{'loss': 2.75, 'learning_rate': 0.00019800000000000002, 'epoch': 0.03}\n",
      "{'loss': 2.7722, 'learning_rate': 0.000196, 'epoch': 0.03}\n",
      "{'loss': 3.1169, 'learning_rate': 0.000194, 'epoch': 0.03}\n",
      "{'loss': 3.5856, 'learning_rate': 0.000192, 'epoch': 0.03}\n",
      "{'loss': 3.1359, 'learning_rate': 0.00019, 'epoch': 0.03}\n",
      "{'loss': 3.0166, 'learning_rate': 0.000188, 'epoch': 0.03}\n",
      "{'loss': 2.392, 'learning_rate': 0.00018600000000000002, 'epoch': 0.03}\n",
      "{'loss': 2.6268, 'learning_rate': 0.00018400000000000003, 'epoch': 0.03}\n",
      "{'loss': 2.8368, 'learning_rate': 0.000182, 'epoch': 0.03}\n",
      "{'loss': 3.0379, 'learning_rate': 0.00018, 'epoch': 0.03}\n",
      "{'loss': 3.3577, 'learning_rate': 0.00017800000000000002, 'epoch': 0.03}\n",
      "{'loss': 2.6617, 'learning_rate': 0.00017600000000000002, 'epoch': 0.03}\n",
      "{'loss': 2.5941, 'learning_rate': 0.000174, 'epoch': 0.03}\n",
      "{'loss': 2.6899, 'learning_rate': 0.000172, 'epoch': 0.03}\n",
      "{'loss': 3.1338, 'learning_rate': 0.00017, 'epoch': 0.03}\n",
      "{'loss': 3.5869, 'learning_rate': 0.000168, 'epoch': 0.03}\n",
      "{'loss': 2.8784, 'learning_rate': 0.000166, 'epoch': 0.03}\n",
      "{'loss': 2.6983, 'learning_rate': 0.000164, 'epoch': 0.03}\n",
      "{'loss': 2.055, 'learning_rate': 0.000162, 'epoch': 0.03}\n",
      "{'loss': 2.8445, 'learning_rate': 0.00016, 'epoch': 0.03}\n",
      "{'loss': 2.8942, 'learning_rate': 0.00015800000000000002, 'epoch': 0.03}\n",
      "{'loss': 3.4511, 'learning_rate': 0.00015600000000000002, 'epoch': 0.03}\n",
      "{'loss': 2.8066, 'learning_rate': 0.000154, 'epoch': 0.03}\n",
      "{'loss': 2.5872, 'learning_rate': 0.000152, 'epoch': 0.03}\n",
      "{'loss': 2.6646, 'learning_rate': 0.00015000000000000001, 'epoch': 0.03}\n",
      "{'loss': 3.3017, 'learning_rate': 0.000148, 'epoch': 0.03}\n",
      "{'loss': 3.1523, 'learning_rate': 0.000146, 'epoch': 0.03}\n",
      "{'loss': 2.9117, 'learning_rate': 0.000144, 'epoch': 0.03}\n",
      "{'loss': 2.6159, 'learning_rate': 0.000142, 'epoch': 0.03}\n",
      "{'loss': 2.2596, 'learning_rate': 0.00014, 'epoch': 0.03}\n",
      "{'loss': 3.3191, 'learning_rate': 0.000138, 'epoch': 0.03}\n",
      "{'loss': 2.9402, 'learning_rate': 0.00013600000000000003, 'epoch': 0.03}\n",
      "{'loss': 3.1003, 'learning_rate': 0.000134, 'epoch': 0.03}\n",
      "{'loss': 2.764, 'learning_rate': 0.000132, 'epoch': 0.04}\n",
      "{'loss': 2.8239, 'learning_rate': 0.00013000000000000002, 'epoch': 0.04}\n",
      "{'loss': 3.2727, 'learning_rate': 0.00012800000000000002, 'epoch': 0.04}\n",
      "{'loss': 3.053, 'learning_rate': 0.000126, 'epoch': 0.04}\n",
      "{'loss': 2.4773, 'learning_rate': 0.000124, 'epoch': 0.04}\n",
      "{'loss': 2.7302, 'learning_rate': 0.000122, 'epoch': 0.04}\n",
      "{'loss': 2.3099, 'learning_rate': 0.00012, 'epoch': 0.04}\n",
      "{'loss': 2.6194, 'learning_rate': 0.000118, 'epoch': 0.04}\n",
      "{'loss': 2.82, 'learning_rate': 0.000116, 'epoch': 0.04}\n",
      "{'loss': 2.8273, 'learning_rate': 0.00011399999999999999, 'epoch': 0.04}\n",
      "{'loss': 2.9941, 'learning_rate': 0.00011200000000000001, 'epoch': 0.04}\n",
      "{'loss': 2.9261, 'learning_rate': 0.00011000000000000002, 'epoch': 0.04}\n",
      "{'loss': 2.5039, 'learning_rate': 0.00010800000000000001, 'epoch': 0.04}\n",
      "{'loss': 3.3273, 'learning_rate': 0.00010600000000000002, 'epoch': 0.04}\n",
      "{'loss': 3.1354, 'learning_rate': 0.00010400000000000001, 'epoch': 0.04}\n",
      "{'loss': 2.5864, 'learning_rate': 0.00010200000000000001, 'epoch': 0.04}\n",
      "{'loss': 3.0036, 'learning_rate': 0.0001, 'epoch': 0.04}\n",
      "{'loss': 2.8265, 'learning_rate': 9.8e-05, 'epoch': 0.04}\n",
      "{'loss': 2.7934, 'learning_rate': 9.6e-05, 'epoch': 0.04}\n",
      "{'loss': 3.0288, 'learning_rate': 9.4e-05, 'epoch': 0.04}\n",
      "{'loss': 2.9319, 'learning_rate': 9.200000000000001e-05, 'epoch': 0.04}\n",
      "{'loss': 3.0172, 'learning_rate': 9e-05, 'epoch': 0.04}\n",
      "{'loss': 2.7975, 'learning_rate': 8.800000000000001e-05, 'epoch': 0.04}\n",
      "{'loss': 2.4019, 'learning_rate': 8.6e-05, 'epoch': 0.04}\n",
      "{'loss': 3.0346, 'learning_rate': 8.4e-05, 'epoch': 0.04}\n",
      "{'loss': 2.6622, 'learning_rate': 8.2e-05, 'epoch': 0.04}\n",
      "{'loss': 2.473, 'learning_rate': 8e-05, 'epoch': 0.04}\n",
      "{'loss': 2.4743, 'learning_rate': 7.800000000000001e-05, 'epoch': 0.04}\n",
      "{'loss': 2.8365, 'learning_rate': 7.6e-05, 'epoch': 0.04}\n",
      "{'loss': 2.7194, 'learning_rate': 7.4e-05, 'epoch': 0.04}\n",
      "{'loss': 3.0051, 'learning_rate': 7.2e-05, 'epoch': 0.04}\n",
      "{'loss': 2.8887, 'learning_rate': 7e-05, 'epoch': 0.04}\n",
      "{'loss': 3.132, 'learning_rate': 6.800000000000001e-05, 'epoch': 0.04}\n",
      "{'loss': 2.6443, 'learning_rate': 6.6e-05, 'epoch': 0.04}\n",
      "{'loss': 2.3624, 'learning_rate': 6.400000000000001e-05, 'epoch': 0.04}\n",
      "{'loss': 3.1748, 'learning_rate': 6.2e-05, 'epoch': 0.04}\n",
      "{'loss': 2.566, 'learning_rate': 6e-05, 'epoch': 0.04}\n",
      "{'loss': 2.2749, 'learning_rate': 5.8e-05, 'epoch': 0.04}\n",
      "{'loss': 2.6965, 'learning_rate': 5.6000000000000006e-05, 'epoch': 0.05}\n",
      "{'loss': 2.2937, 'learning_rate': 5.4000000000000005e-05, 'epoch': 0.05}\n",
      "{'loss': 3.1083, 'learning_rate': 5.2000000000000004e-05, 'epoch': 0.05}\n",
      "{'loss': 2.8217, 'learning_rate': 5e-05, 'epoch': 0.05}\n",
      "{'loss': 2.4382, 'learning_rate': 4.8e-05, 'epoch': 0.05}\n",
      "{'loss': 3.0343, 'learning_rate': 4.600000000000001e-05, 'epoch': 0.05}\n",
      "{'loss': 2.6765, 'learning_rate': 4.4000000000000006e-05, 'epoch': 0.05}\n",
      "{'loss': 3.1287, 'learning_rate': 4.2e-05, 'epoch': 0.05}\n",
      "{'loss': 2.6334, 'learning_rate': 4e-05, 'epoch': 0.05}\n",
      "{'loss': 2.6446, 'learning_rate': 3.8e-05, 'epoch': 0.05}\n",
      "{'loss': 2.5942, 'learning_rate': 3.6e-05, 'epoch': 0.05}\n",
      "{'loss': 2.7014, 'learning_rate': 3.4000000000000007e-05, 'epoch': 0.05}\n",
      "{'loss': 2.5295, 'learning_rate': 3.2000000000000005e-05, 'epoch': 0.05}\n",
      "{'loss': 2.7098, 'learning_rate': 3e-05, 'epoch': 0.05}\n",
      "{'loss': 2.3082, 'learning_rate': 2.8000000000000003e-05, 'epoch': 0.05}\n",
      "{'loss': 2.2376, 'learning_rate': 2.6000000000000002e-05, 'epoch': 0.05}\n",
      "{'loss': 2.2826, 'learning_rate': 2.4e-05, 'epoch': 0.05}\n",
      "{'loss': 3.3359, 'learning_rate': 2.2000000000000003e-05, 'epoch': 0.05}\n",
      "{'loss': 2.7153, 'learning_rate': 2e-05, 'epoch': 0.05}\n",
      "{'loss': 2.8917, 'learning_rate': 1.8e-05, 'epoch': 0.05}\n",
      "{'loss': 2.6957, 'learning_rate': 1.6000000000000003e-05, 'epoch': 0.05}\n",
      "{'loss': 3.0634, 'learning_rate': 1.4000000000000001e-05, 'epoch': 0.05}\n",
      "{'loss': 2.8037, 'learning_rate': 1.2e-05, 'epoch': 0.05}\n",
      "{'loss': 2.1161, 'learning_rate': 1e-05, 'epoch': 0.05}\n",
      "{'loss': 2.8191, 'learning_rate': 8.000000000000001e-06, 'epoch': 0.05}\n",
      "{'loss': 2.4417, 'learning_rate': 6e-06, 'epoch': 0.05}\n",
      "{'loss': 2.5491, 'learning_rate': 4.000000000000001e-06, 'epoch': 0.05}\n",
      "{'loss': 2.4997, 'learning_rate': 2.0000000000000003e-06, 'epoch': 0.05}\n"
     ]
    },
    {
     "name": "stderr",
     "output_type": "stream",
     "text": [
      "The following columns in the evaluation set don't have a corresponding argument in `GPT2LMHeadModel.forward` and have been ignored: text. If text are not expected by `GPT2LMHeadModel.forward`,  you can safely ignore this message.\n",
      "***** Running Evaluation *****\n",
      "  Num examples = 617\n",
      "  Batch size = 8\n"
     ]
    },
    {
     "name": "stdout",
     "output_type": "stream",
     "text": [
      "{'loss': 2.1579, 'learning_rate': 0.0, 'epoch': 0.05}\n"
     ]
    },
    {
     "data": {
      "application/vnd.jupyter.widget-view+json": {
       "model_id": "64acf41220fb4522b0faa1050ffd20f1",
       "version_major": 2,
       "version_minor": 0
      },
      "text/plain": [
       "  0%|          | 0/78 [00:00<?, ?it/s]"
      ]
     },
     "metadata": {},
     "output_type": "display_data"
    },
    {
     "name": "stderr",
     "output_type": "stream",
     "text": [
      "Saving model checkpoint to outputs/checkpoint-200\n",
      "Configuration saved in outputs/checkpoint-200/config.json\n"
     ]
    },
    {
     "name": "stdout",
     "output_type": "stream",
     "text": [
      "{'eval_loss': 2.6826398372650146, 'eval_runtime': 39.8075, 'eval_samples_per_second': 15.5, 'eval_steps_per_second': 1.959, 'epoch': 0.05}\n"
     ]
    },
    {
     "name": "stderr",
     "output_type": "stream",
     "text": [
      "Model weights saved in outputs/checkpoint-200/pytorch_model.bin\n",
      "tokenizer config file saved in outputs/checkpoint-200/tokenizer_config.json\n",
      "Special tokens file saved in outputs/checkpoint-200/special_tokens_map.json\n",
      "\n",
      "\n",
      "Training completed. Do not forget to share your model on huggingface.co/models =)\n",
      "\n",
      "\n",
      "Loading best model from outputs/checkpoint-200 (score: 2.6826398372650146).\n"
     ]
    },
    {
     "name": "stdout",
     "output_type": "stream",
     "text": [
      "{'train_runtime': 754.6302, 'train_samples_per_second': 4.24, 'train_steps_per_second': 0.265, 'train_loss': 3.0358620142936705, 'epoch': 0.05}\n"
     ]
    },
    {
     "data": {
      "text/plain": [
       "TrainOutput(global_step=200, training_loss=3.0358620142936705, metrics={'train_runtime': 754.6302, 'train_samples_per_second': 4.24, 'train_steps_per_second': 0.265, 'train_loss': 3.0358620142936705, 'epoch': 0.05})"
      ]
     },
     "execution_count": 69,
     "metadata": {},
     "output_type": "execute_result"
    }
   ],
   "source": [
    "trainer.train()"
   ]
  },
  {
   "cell_type": "code",
   "execution_count": null,
   "metadata": {},
   "outputs": [],
   "source": [
    "model.save_pretrained(\"short_messages\") # or model.push_to_hub"
   ]
  },
  {
   "cell_type": "code",
   "execution_count": null,
   "metadata": {},
   "outputs": [],
   "source": [
    "peft_model_id = \"short_messages\"\n",
    "config = PeftConfig.from_pretrained(peft_model_id)\n",
    "model = AutoModelForSeq2SeqLM.from_pretrained(base_name)\n",
    "model = PeftModel.from_pretrained(model, peft_model_id)\n",
    "tokenizer = AutoTokenizer.from_pretrained(base_name)\n",
    "\n",
    "model = model.to(device)\n",
    "model.eval()\n",
    "inputs = tokenizer(\"Tweet text : @HondaCustSvc Your customer service has been horrible during the recall process. I will never purchase a Honda again. Label :\", return_tensors=\"pt\")\n",
    "\n",
    "with torch.no_grad():\n",
    "    outputs = model.generate(input_ids=inputs[\"input_ids\"].to(\"cuda\"), max_new_tokens=10)\n",
    "    print(tokenizer.batch_decode(outputs.detach().cpu().numpy(), skip_special_tokens=True)[0])\n",
    "# 'complaint'"
   ]
  }
 ],
 "metadata": {
  "kernelspec": {
   "display_name": "Python 3",
   "language": "python",
   "name": "python3"
  },
  "language_info": {
   "codemirror_mode": {
    "name": "ipython",
    "version": 3
   },
   "file_extension": ".py",
   "mimetype": "text/x-python",
   "name": "python",
   "nbconvert_exporter": "python",
   "pygments_lexer": "ipython3",
   "version": "3.10.6"
  },
  "orig_nbformat": 4
 },
 "nbformat": 4,
 "nbformat_minor": 2
}
